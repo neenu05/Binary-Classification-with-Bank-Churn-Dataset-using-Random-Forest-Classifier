{
 "cells": [
  {
   "cell_type": "markdown",
   "id": "229c7712",
   "metadata": {},
   "source": [
    "<a href=\"https://www.kaggle.com/code/neenues/bankchurndataset-randomforest\" target=\"_blank\"><img align=\"left\" alt=\"Kaggle\" title=\"Open in Kaggle\" src=\"https://kaggle.com/static/images/open-in-kaggle.svg\"></a>"
   ]
  },
  {
   "cell_type": "markdown",
   "id": "f6d5d1b0",
   "metadata": {},
   "source": [
    "# [Binary Classification with a Bank Churn Dataset](https://www.kaggle.com/competitions/playground-series-s4e1)\n",
    "### Playground Series - Season 4, Episode 1.\n",
    "_______________________________________________________________________ \n",
    "# Author Details:\n",
    "- Name: Neenu E S\n",
    "- Profiles: [Github](https://github.com/neenu05) | [LinkedIn](https://www.linkedin.com/in/neenues/) | [Kaggle](https://www.kaggle.com/neenues)\n",
    "- Prepared for the submission to the competition.\n",
    "________________________________________________________________________\n",
    "# Attributions:\n",
    "[Walter Reade, Ashley Chow. (2024). Binary Classification with a Bank Churn Dataset . Kaggle.](https://www.kaggle.com/competitions/playground-series-s4e1)\n",
    "__________________________________________________________________________\n",
    "# Code Execution : \n",
    "- [Execute the notebook in Kaggle](https://www.kaggle.com/code/neenues/bankchurndataset-randomforest/edit/run/160770978)"
   ]
  },
  {
   "cell_type": "code",
   "execution_count": null,
   "id": "12d721af",
   "metadata": {},
   "outputs": [],
   "source": []
  },
  {
   "cell_type": "code",
   "execution_count": 5,
   "id": "90ca22a9",
   "metadata": {
    "execution": {
     "iopub.execute_input": "2024-01-28T18:05:58.464213Z",
     "iopub.status.busy": "2024-01-28T18:05:58.463588Z",
     "iopub.status.idle": "2024-01-28T18:06:03.458321Z",
     "shell.execute_reply": "2024-01-28T18:06:03.456907Z"
    },
    "papermill": {
     "duration": 5.012227,
     "end_time": "2024-01-28T18:06:03.461503",
     "exception": false,
     "start_time": "2024-01-28T18:05:58.449276",
     "status": "completed"
    },
    "tags": []
   },
   "outputs": [
    {
     "data": {
      "text/html": [
       "        <script type=\"text/javascript\">\n",
       "        window.PlotlyConfig = {MathJaxConfig: 'local'};\n",
       "        if (window.MathJax && window.MathJax.Hub && window.MathJax.Hub.Config) {window.MathJax.Hub.Config({SVG: {font: \"STIX-Web\"}});}\n",
       "        if (typeof require !== 'undefined') {\n",
       "        require.undef(\"plotly\");\n",
       "        requirejs.config({\n",
       "            paths: {\n",
       "                'plotly': ['https://cdn.plot.ly/plotly-2.12.1.min']\n",
       "            }\n",
       "        });\n",
       "        require(['plotly'], function(Plotly) {\n",
       "            window._Plotly = Plotly;\n",
       "        });\n",
       "        }\n",
       "        </script>\n",
       "        "
      ]
     },
     "metadata": {},
     "output_type": "display_data"
    }
   ],
   "source": [
    "import numpy as np # linear algebra\n",
    "import pandas as pd # data processing, CSV file I/O (e.g. pd.read_csv)\n",
    "import os\n",
    "import matplotlib.pyplot as plt\n",
    "import warnings\n",
    "import seaborn as sns\n",
    "plt.style.use('ggplot')\n",
    "from mlxtend.plotting import plot_confusion_matrix\n",
    "from plotly.offline import plot, iplot, init_notebook_mode\n",
    "init_notebook_mode(connected=True)\n",
    "warnings.filterwarnings(\"ignore\")\n",
    "import plotly.figure_factory as ff\n",
    "%matplotlib inline\n",
    "\n",
    "from sklearn.preprocessing import StandardScaler\n",
    "from sklearn.preprocessing import LabelEncoder\n",
    "\n",
    "from sklearn.ensemble import RandomForestClassifier\n",
    "\n",
    "from sklearn.model_selection import train_test_split, RandomizedSearchCV, cross_val_score\n",
    "from sklearn.metrics import confusion_matrix, classification_report, accuracy_score\n",
    "from sklearn.metrics import precision_recall_fscore_support as score\n",
    "from sklearn.metrics import roc_curve, auc, roc_auc_score\n",
    "from sklearn.pipeline import make_pipeline"
   ]
  },
  {
   "cell_type": "markdown",
   "id": "df1fd43a",
   "metadata": {
    "papermill": {
     "duration": 0.013732,
     "end_time": "2024-01-28T18:06:03.488924",
     "exception": false,
     "start_time": "2024-01-28T18:06:03.475192",
     "status": "completed"
    },
    "tags": []
   },
   "source": [
    "##### Lets Explore the data"
   ]
  },
  {
   "cell_type": "code",
   "execution_count": 6,
   "id": "a4ab9eea",
   "metadata": {
    "execution": {
     "iopub.execute_input": "2024-01-28T18:06:03.519680Z",
     "iopub.status.busy": "2024-01-28T18:06:03.518883Z",
     "iopub.status.idle": "2024-01-28T18:06:04.366157Z",
     "shell.execute_reply": "2024-01-28T18:06:04.364497Z"
    },
    "papermill": {
     "duration": 0.866918,
     "end_time": "2024-01-28T18:06:04.369468",
     "exception": false,
     "start_time": "2024-01-28T18:06:03.502550",
     "status": "completed"
    },
    "tags": []
   },
   "outputs": [],
   "source": [
    "train_df = pd.read_csv('train.csv')\n",
    "test_df = pd.read_csv('test.csv')"
   ]
  },
  {
   "cell_type": "code",
   "execution_count": 7,
   "id": "f77eae01",
   "metadata": {
    "execution": {
     "iopub.execute_input": "2024-01-28T18:06:04.400659Z",
     "iopub.status.busy": "2024-01-28T18:06:04.400145Z",
     "iopub.status.idle": "2024-01-28T18:06:04.409959Z",
     "shell.execute_reply": "2024-01-28T18:06:04.408801Z"
    },
    "papermill": {
     "duration": 0.030036,
     "end_time": "2024-01-28T18:06:04.412822",
     "exception": false,
     "start_time": "2024-01-28T18:06:04.382786",
     "status": "completed"
    },
    "tags": []
   },
   "outputs": [
    {
     "data": {
      "text/plain": [
       "((165034, 14), (110023, 13))"
      ]
     },
     "execution_count": 7,
     "metadata": {},
     "output_type": "execute_result"
    }
   ],
   "source": [
    "train_df.shape, test_df.shape"
   ]
  },
  {
   "cell_type": "code",
   "execution_count": 8,
   "id": "87493f1c",
   "metadata": {
    "execution": {
     "iopub.execute_input": "2024-01-28T18:06:04.445173Z",
     "iopub.status.busy": "2024-01-28T18:06:04.444668Z",
     "iopub.status.idle": "2024-01-28T18:06:04.549166Z",
     "shell.execute_reply": "2024-01-28T18:06:04.547123Z"
    },
    "papermill": {
     "duration": 0.124894,
     "end_time": "2024-01-28T18:06:04.552963",
     "exception": false,
     "start_time": "2024-01-28T18:06:04.428069",
     "status": "completed"
    },
    "tags": []
   },
   "outputs": [
    {
     "name": "stdout",
     "output_type": "stream",
     "text": [
      "<class 'pandas.core.frame.DataFrame'>\n",
      "RangeIndex: 165034 entries, 0 to 165033\n",
      "Data columns (total 14 columns):\n",
      " #   Column           Non-Null Count   Dtype  \n",
      "---  ------           --------------   -----  \n",
      " 0   id               165034 non-null  int64  \n",
      " 1   CustomerId       165034 non-null  int64  \n",
      " 2   Surname          165034 non-null  object \n",
      " 3   CreditScore      165034 non-null  int64  \n",
      " 4   Geography        165034 non-null  object \n",
      " 5   Gender           165034 non-null  object \n",
      " 6   Age              165034 non-null  float64\n",
      " 7   Tenure           165034 non-null  int64  \n",
      " 8   Balance          165034 non-null  float64\n",
      " 9   NumOfProducts    165034 non-null  int64  \n",
      " 10  HasCrCard        165034 non-null  float64\n",
      " 11  IsActiveMember   165034 non-null  float64\n",
      " 12  EstimatedSalary  165034 non-null  float64\n",
      " 13  Exited           165034 non-null  int64  \n",
      "dtypes: float64(5), int64(6), object(3)\n",
      "memory usage: 17.6+ MB\n"
     ]
    }
   ],
   "source": [
    "train_df.info()"
   ]
  },
  {
   "cell_type": "code",
   "execution_count": 9,
   "id": "0035269b",
   "metadata": {
    "execution": {
     "iopub.execute_input": "2024-01-28T18:06:04.582594Z",
     "iopub.status.busy": "2024-01-28T18:06:04.582095Z",
     "iopub.status.idle": "2024-01-28T18:06:04.723646Z",
     "shell.execute_reply": "2024-01-28T18:06:04.722393Z"
    },
    "papermill": {
     "duration": 0.160286,
     "end_time": "2024-01-28T18:06:04.726759",
     "exception": false,
     "start_time": "2024-01-28T18:06:04.566473",
     "status": "completed"
    },
    "tags": []
   },
   "outputs": [
    {
     "data": {
      "text/html": [
       "<div>\n",
       "<style scoped>\n",
       "    .dataframe tbody tr th:only-of-type {\n",
       "        vertical-align: middle;\n",
       "    }\n",
       "\n",
       "    .dataframe tbody tr th {\n",
       "        vertical-align: top;\n",
       "    }\n",
       "\n",
       "    .dataframe thead th {\n",
       "        text-align: right;\n",
       "    }\n",
       "</style>\n",
       "<table border=\"1\" class=\"dataframe\">\n",
       "  <thead>\n",
       "    <tr style=\"text-align: right;\">\n",
       "      <th></th>\n",
       "      <th>count</th>\n",
       "      <th>mean</th>\n",
       "      <th>std</th>\n",
       "      <th>min</th>\n",
       "      <th>25%</th>\n",
       "      <th>50%</th>\n",
       "      <th>75%</th>\n",
       "      <th>max</th>\n",
       "    </tr>\n",
       "  </thead>\n",
       "  <tbody>\n",
       "    <tr>\n",
       "      <th>id</th>\n",
       "      <td>165034.0</td>\n",
       "      <td>8.251650e+04</td>\n",
       "      <td>47641.356500</td>\n",
       "      <td>0.00</td>\n",
       "      <td>41258.25</td>\n",
       "      <td>82516.5</td>\n",
       "      <td>1.237748e+05</td>\n",
       "      <td>165033.00</td>\n",
       "    </tr>\n",
       "    <tr>\n",
       "      <th>CustomerId</th>\n",
       "      <td>165034.0</td>\n",
       "      <td>1.569201e+07</td>\n",
       "      <td>71397.816791</td>\n",
       "      <td>15565701.00</td>\n",
       "      <td>15633141.00</td>\n",
       "      <td>15690169.0</td>\n",
       "      <td>1.575682e+07</td>\n",
       "      <td>15815690.00</td>\n",
       "    </tr>\n",
       "    <tr>\n",
       "      <th>CreditScore</th>\n",
       "      <td>165034.0</td>\n",
       "      <td>6.564544e+02</td>\n",
       "      <td>80.103340</td>\n",
       "      <td>350.00</td>\n",
       "      <td>597.00</td>\n",
       "      <td>659.0</td>\n",
       "      <td>7.100000e+02</td>\n",
       "      <td>850.00</td>\n",
       "    </tr>\n",
       "    <tr>\n",
       "      <th>Age</th>\n",
       "      <td>165034.0</td>\n",
       "      <td>3.812589e+01</td>\n",
       "      <td>8.867205</td>\n",
       "      <td>18.00</td>\n",
       "      <td>32.00</td>\n",
       "      <td>37.0</td>\n",
       "      <td>4.200000e+01</td>\n",
       "      <td>92.00</td>\n",
       "    </tr>\n",
       "    <tr>\n",
       "      <th>Tenure</th>\n",
       "      <td>165034.0</td>\n",
       "      <td>5.020353e+00</td>\n",
       "      <td>2.806159</td>\n",
       "      <td>0.00</td>\n",
       "      <td>3.00</td>\n",
       "      <td>5.0</td>\n",
       "      <td>7.000000e+00</td>\n",
       "      <td>10.00</td>\n",
       "    </tr>\n",
       "    <tr>\n",
       "      <th>Balance</th>\n",
       "      <td>165034.0</td>\n",
       "      <td>5.547809e+04</td>\n",
       "      <td>62817.663278</td>\n",
       "      <td>0.00</td>\n",
       "      <td>0.00</td>\n",
       "      <td>0.0</td>\n",
       "      <td>1.199395e+05</td>\n",
       "      <td>250898.09</td>\n",
       "    </tr>\n",
       "    <tr>\n",
       "      <th>NumOfProducts</th>\n",
       "      <td>165034.0</td>\n",
       "      <td>1.554455e+00</td>\n",
       "      <td>0.547154</td>\n",
       "      <td>1.00</td>\n",
       "      <td>1.00</td>\n",
       "      <td>2.0</td>\n",
       "      <td>2.000000e+00</td>\n",
       "      <td>4.00</td>\n",
       "    </tr>\n",
       "    <tr>\n",
       "      <th>HasCrCard</th>\n",
       "      <td>165034.0</td>\n",
       "      <td>7.539537e-01</td>\n",
       "      <td>0.430707</td>\n",
       "      <td>0.00</td>\n",
       "      <td>1.00</td>\n",
       "      <td>1.0</td>\n",
       "      <td>1.000000e+00</td>\n",
       "      <td>1.00</td>\n",
       "    </tr>\n",
       "    <tr>\n",
       "      <th>IsActiveMember</th>\n",
       "      <td>165034.0</td>\n",
       "      <td>4.977702e-01</td>\n",
       "      <td>0.499997</td>\n",
       "      <td>0.00</td>\n",
       "      <td>0.00</td>\n",
       "      <td>0.0</td>\n",
       "      <td>1.000000e+00</td>\n",
       "      <td>1.00</td>\n",
       "    </tr>\n",
       "    <tr>\n",
       "      <th>EstimatedSalary</th>\n",
       "      <td>165034.0</td>\n",
       "      <td>1.125748e+05</td>\n",
       "      <td>50292.865585</td>\n",
       "      <td>11.58</td>\n",
       "      <td>74637.57</td>\n",
       "      <td>117948.0</td>\n",
       "      <td>1.551525e+05</td>\n",
       "      <td>199992.48</td>\n",
       "    </tr>\n",
       "    <tr>\n",
       "      <th>Exited</th>\n",
       "      <td>165034.0</td>\n",
       "      <td>2.115988e-01</td>\n",
       "      <td>0.408443</td>\n",
       "      <td>0.00</td>\n",
       "      <td>0.00</td>\n",
       "      <td>0.0</td>\n",
       "      <td>0.000000e+00</td>\n",
       "      <td>1.00</td>\n",
       "    </tr>\n",
       "  </tbody>\n",
       "</table>\n",
       "</div>"
      ],
      "text/plain": [
       "                    count          mean           std          min  \\\n",
       "id               165034.0  8.251650e+04  47641.356500         0.00   \n",
       "CustomerId       165034.0  1.569201e+07  71397.816791  15565701.00   \n",
       "CreditScore      165034.0  6.564544e+02     80.103340       350.00   \n",
       "Age              165034.0  3.812589e+01      8.867205        18.00   \n",
       "Tenure           165034.0  5.020353e+00      2.806159         0.00   \n",
       "Balance          165034.0  5.547809e+04  62817.663278         0.00   \n",
       "NumOfProducts    165034.0  1.554455e+00      0.547154         1.00   \n",
       "HasCrCard        165034.0  7.539537e-01      0.430707         0.00   \n",
       "IsActiveMember   165034.0  4.977702e-01      0.499997         0.00   \n",
       "EstimatedSalary  165034.0  1.125748e+05  50292.865585        11.58   \n",
       "Exited           165034.0  2.115988e-01      0.408443         0.00   \n",
       "\n",
       "                         25%         50%           75%          max  \n",
       "id                  41258.25     82516.5  1.237748e+05    165033.00  \n",
       "CustomerId       15633141.00  15690169.0  1.575682e+07  15815690.00  \n",
       "CreditScore           597.00       659.0  7.100000e+02       850.00  \n",
       "Age                    32.00        37.0  4.200000e+01        92.00  \n",
       "Tenure                  3.00         5.0  7.000000e+00        10.00  \n",
       "Balance                 0.00         0.0  1.199395e+05    250898.09  \n",
       "NumOfProducts           1.00         2.0  2.000000e+00         4.00  \n",
       "HasCrCard               1.00         1.0  1.000000e+00         1.00  \n",
       "IsActiveMember          0.00         0.0  1.000000e+00         1.00  \n",
       "EstimatedSalary     74637.57    117948.0  1.551525e+05    199992.48  \n",
       "Exited                  0.00         0.0  0.000000e+00         1.00  "
      ]
     },
     "execution_count": 9,
     "metadata": {},
     "output_type": "execute_result"
    }
   ],
   "source": [
    "#Checking the dataset description\n",
    "describe = train_df.describe()\n",
    "describe.transpose()"
   ]
  },
  {
   "cell_type": "code",
   "execution_count": 10,
   "id": "52f5dc89",
   "metadata": {
    "execution": {
     "iopub.execute_input": "2024-01-28T18:06:04.756811Z",
     "iopub.status.busy": "2024-01-28T18:06:04.756299Z",
     "iopub.status.idle": "2024-01-28T18:06:04.821411Z",
     "shell.execute_reply": "2024-01-28T18:06:04.820062Z"
    },
    "papermill": {
     "duration": 0.083493,
     "end_time": "2024-01-28T18:06:04.824349",
     "exception": false,
     "start_time": "2024-01-28T18:06:04.740856",
     "status": "completed"
    },
    "tags": []
   },
   "outputs": [
    {
     "data": {
      "text/plain": [
       "id                 0\n",
       "CustomerId         0\n",
       "Surname            0\n",
       "CreditScore        0\n",
       "Geography          0\n",
       "Gender             0\n",
       "Age                0\n",
       "Tenure             0\n",
       "Balance            0\n",
       "NumOfProducts      0\n",
       "HasCrCard          0\n",
       "IsActiveMember     0\n",
       "EstimatedSalary    0\n",
       "Exited             0\n",
       "dtype: int64"
      ]
     },
     "execution_count": 10,
     "metadata": {},
     "output_type": "execute_result"
    }
   ],
   "source": [
    "train_df.isnull().sum()  ## no null values"
   ]
  },
  {
   "cell_type": "code",
   "execution_count": 11,
   "id": "fb31b202",
   "metadata": {
    "execution": {
     "iopub.execute_input": "2024-01-28T18:06:04.854687Z",
     "iopub.status.busy": "2024-01-28T18:06:04.854198Z",
     "iopub.status.idle": "2024-01-28T18:06:04.904457Z",
     "shell.execute_reply": "2024-01-28T18:06:04.903005Z"
    },
    "papermill": {
     "duration": 0.069387,
     "end_time": "2024-01-28T18:06:04.907854",
     "exception": false,
     "start_time": "2024-01-28T18:06:04.838467",
     "status": "completed"
    },
    "tags": []
   },
   "outputs": [
    {
     "data": {
      "text/plain": [
       "id                 0\n",
       "CustomerId         0\n",
       "Surname            0\n",
       "CreditScore        0\n",
       "Geography          0\n",
       "Gender             0\n",
       "Age                0\n",
       "Tenure             0\n",
       "Balance            0\n",
       "NumOfProducts      0\n",
       "HasCrCard          0\n",
       "IsActiveMember     0\n",
       "EstimatedSalary    0\n",
       "dtype: int64"
      ]
     },
     "execution_count": 11,
     "metadata": {},
     "output_type": "execute_result"
    }
   ],
   "source": [
    "test_df.isnull().sum()  ## no null values"
   ]
  },
  {
   "cell_type": "code",
   "execution_count": 12,
   "id": "f81d406d",
   "metadata": {
    "execution": {
     "iopub.execute_input": "2024-01-28T18:06:04.938892Z",
     "iopub.status.busy": "2024-01-28T18:06:04.938435Z",
     "iopub.status.idle": "2024-01-28T18:06:05.083429Z",
     "shell.execute_reply": "2024-01-28T18:06:05.082087Z"
    },
    "papermill": {
     "duration": 0.16368,
     "end_time": "2024-01-28T18:06:05.086298",
     "exception": false,
     "start_time": "2024-01-28T18:06:04.922618",
     "status": "completed"
    },
    "tags": []
   },
   "outputs": [
    {
     "data": {
      "text/html": [
       "<div>\n",
       "<style scoped>\n",
       "    .dataframe tbody tr th:only-of-type {\n",
       "        vertical-align: middle;\n",
       "    }\n",
       "\n",
       "    .dataframe tbody tr th {\n",
       "        vertical-align: top;\n",
       "    }\n",
       "\n",
       "    .dataframe thead th {\n",
       "        text-align: right;\n",
       "    }\n",
       "</style>\n",
       "<table border=\"1\" class=\"dataframe\">\n",
       "  <thead>\n",
       "    <tr style=\"text-align: right;\">\n",
       "      <th></th>\n",
       "      <th>id</th>\n",
       "      <th>CustomerId</th>\n",
       "      <th>Surname</th>\n",
       "      <th>CreditScore</th>\n",
       "      <th>Geography</th>\n",
       "      <th>Gender</th>\n",
       "      <th>Age</th>\n",
       "      <th>Tenure</th>\n",
       "      <th>Balance</th>\n",
       "      <th>NumOfProducts</th>\n",
       "      <th>HasCrCard</th>\n",
       "      <th>IsActiveMember</th>\n",
       "      <th>EstimatedSalary</th>\n",
       "      <th>Exited</th>\n",
       "    </tr>\n",
       "  </thead>\n",
       "  <tbody>\n",
       "  </tbody>\n",
       "</table>\n",
       "</div>"
      ],
      "text/plain": [
       "Empty DataFrame\n",
       "Columns: [id, CustomerId, Surname, CreditScore, Geography, Gender, Age, Tenure, Balance, NumOfProducts, HasCrCard, IsActiveMember, EstimatedSalary, Exited]\n",
       "Index: []"
      ]
     },
     "execution_count": 12,
     "metadata": {},
     "output_type": "execute_result"
    }
   ],
   "source": [
    "# Check duplicate values in training data\n",
    "train_df[train_df.duplicated()]"
   ]
  },
  {
   "cell_type": "code",
   "execution_count": 13,
   "id": "02c17bc2",
   "metadata": {
    "execution": {
     "iopub.execute_input": "2024-01-28T18:06:05.118823Z",
     "iopub.status.busy": "2024-01-28T18:06:05.118291Z",
     "iopub.status.idle": "2024-01-28T18:06:05.217360Z",
     "shell.execute_reply": "2024-01-28T18:06:05.216033Z"
    },
    "papermill": {
     "duration": 0.119641,
     "end_time": "2024-01-28T18:06:05.220338",
     "exception": false,
     "start_time": "2024-01-28T18:06:05.100697",
     "status": "completed"
    },
    "tags": []
   },
   "outputs": [
    {
     "data": {
      "text/html": [
       "<div>\n",
       "<style scoped>\n",
       "    .dataframe tbody tr th:only-of-type {\n",
       "        vertical-align: middle;\n",
       "    }\n",
       "\n",
       "    .dataframe tbody tr th {\n",
       "        vertical-align: top;\n",
       "    }\n",
       "\n",
       "    .dataframe thead th {\n",
       "        text-align: right;\n",
       "    }\n",
       "</style>\n",
       "<table border=\"1\" class=\"dataframe\">\n",
       "  <thead>\n",
       "    <tr style=\"text-align: right;\">\n",
       "      <th></th>\n",
       "      <th>id</th>\n",
       "      <th>CustomerId</th>\n",
       "      <th>Surname</th>\n",
       "      <th>CreditScore</th>\n",
       "      <th>Geography</th>\n",
       "      <th>Gender</th>\n",
       "      <th>Age</th>\n",
       "      <th>Tenure</th>\n",
       "      <th>Balance</th>\n",
       "      <th>NumOfProducts</th>\n",
       "      <th>HasCrCard</th>\n",
       "      <th>IsActiveMember</th>\n",
       "      <th>EstimatedSalary</th>\n",
       "    </tr>\n",
       "  </thead>\n",
       "  <tbody>\n",
       "  </tbody>\n",
       "</table>\n",
       "</div>"
      ],
      "text/plain": [
       "Empty DataFrame\n",
       "Columns: [id, CustomerId, Surname, CreditScore, Geography, Gender, Age, Tenure, Balance, NumOfProducts, HasCrCard, IsActiveMember, EstimatedSalary]\n",
       "Index: []"
      ]
     },
     "execution_count": 13,
     "metadata": {},
     "output_type": "execute_result"
    }
   ],
   "source": [
    "# Check duplicate values in testing data\n",
    "test_df[test_df.duplicated()]"
   ]
  },
  {
   "cell_type": "code",
   "execution_count": 14,
   "id": "4400515c",
   "metadata": {
    "execution": {
     "iopub.execute_input": "2024-01-28T18:06:05.251714Z",
     "iopub.status.busy": "2024-01-28T18:06:05.251207Z",
     "iopub.status.idle": "2024-01-28T18:06:05.487578Z",
     "shell.execute_reply": "2024-01-28T18:06:05.485834Z"
    },
    "papermill": {
     "duration": 0.255629,
     "end_time": "2024-01-28T18:06:05.490641",
     "exception": false,
     "start_time": "2024-01-28T18:06:05.235012",
     "status": "completed"
    },
    "tags": []
   },
   "outputs": [
    {
     "name": "stdout",
     "output_type": "stream",
     "text": [
      "Exited\n",
      "0    130113\n",
      "1     34921\n",
      "Name: count, dtype: int64\n"
     ]
    },
    {
     "data": {
      "image/png": "[encoded data removed]",
      "text/plain": [
       "<Figure size 300x300 with 1 Axes>"
      ]
     },
     "metadata": {},
     "output_type": "display_data"
    }
   ],
   "source": [
    "exit_counts = train_df['Exited'].value_counts()\n",
    "print(exit_counts)\n",
    "fig, ax = plt.subplots(figsize=(3, 3))\n",
    "fig = sns.barplot(x= exit_counts.index, y= exit_counts.values, ax=ax)"
   ]
  },
  {
   "cell_type": "code",
   "execution_count": 15,
   "id": "659d3c5d",
   "metadata": {
    "execution": {
     "iopub.execute_input": "2024-01-28T18:06:05.524956Z",
     "iopub.status.busy": "2024-01-28T18:06:05.524059Z",
     "iopub.status.idle": "2024-01-28T18:06:05.547669Z",
     "shell.execute_reply": "2024-01-28T18:06:05.546027Z"
    },
    "papermill": {
     "duration": 0.046073,
     "end_time": "2024-01-28T18:06:05.551848",
     "exception": false,
     "start_time": "2024-01-28T18:06:05.505775",
     "status": "completed"
    },
    "tags": []
   },
   "outputs": [
    {
     "data": {
      "text/plain": [
       "Index(['CustomerId', 'Surname', 'CreditScore', 'Geography', 'Gender', 'Age',\n",
       "       'Tenure', 'Balance', 'NumOfProducts', 'HasCrCard', 'IsActiveMember',\n",
       "       'EstimatedSalary', 'Exited'],\n",
       "      dtype='object')"
      ]
     },
     "execution_count": 15,
     "metadata": {},
     "output_type": "execute_result"
    }
   ],
   "source": [
    "# Remove Id Column\n",
    "train_df.drop(['id'], axis=1, inplace=True)\n",
    "train_df.columns"
   ]
  },
  {
   "cell_type": "code",
   "execution_count": 16,
   "id": "7dff7b49",
   "metadata": {
    "execution": {
     "iopub.execute_input": "2024-01-28T18:06:05.588546Z",
     "iopub.status.busy": "2024-01-28T18:06:05.588026Z",
     "iopub.status.idle": "2024-01-28T18:06:30.470994Z",
     "shell.execute_reply": "2024-01-28T18:06:30.469833Z"
    },
    "papermill": {
     "duration": 24.904734,
     "end_time": "2024-01-28T18:06:30.473510",
     "exception": false,
     "start_time": "2024-01-28T18:06:05.568776",
     "status": "completed"
    },
    "tags": []
   },
   "outputs": [
    {
     "data": {
      "image/png": "[encoded data removed]",
      "text/plain": [
       "<Figure size 1500x1500 with 9 Axes>"
      ]
     },
     "metadata": {},
     "output_type": "display_data"
    }
   ],
   "source": [
    "##checking the Exited for numerical column\n",
    "fig, ax = plt.subplots(nrows = 3, ncols = 3, figsize = (15,15))\n",
    "\n",
    "sns.barplot(x=\"Exited\", y='CustomerId', hue=\"Exited\", data=train_df, ax= ax[0,0], palette='Set1')\n",
    "sns.barplot(x=\"Exited\", y='CreditScore', palette='Set1', data=train_df, ax= ax[0,1],  hue=\"Exited\")\n",
    "sns.barplot(x=\"Exited\", y='Age', hue=\"Exited\", data=train_df, ax= ax[0,2], palette='Set1')\n",
    "sns.barplot(x=\"Exited\", y='Tenure', palette='Set1', data=train_df, ax= ax[1,0],  hue=\"Exited\")\n",
    "sns.barplot(x=\"Exited\", y='Balance', hue=\"Exited\", data=train_df, ax= ax[1,1], palette='Set1')\n",
    "sns.barplot(x=\"Exited\", y='NumOfProducts', hue=\"Exited\", data=train_df, ax= ax[1,2], palette='Set1')\n",
    "sns.barplot(x=\"Exited\", y='HasCrCard', hue=\"Exited\", data=train_df, ax= ax[2,0], palette='Set1')\n",
    "sns.barplot(x=\"Exited\", y='IsActiveMember', hue=\"Exited\", data=train_df, ax= ax[2,1], palette='Set1')\n",
    "sns.barplot(x=\"Exited\", y='EstimatedSalary', hue=\"Exited\", data=train_df, ax= ax[2,2], palette='Set1')\n",
    "\n",
    "\n",
    "plt.tight_layout()\n",
    "plt.show()"
   ]
  },
  {
   "cell_type": "markdown",
   "id": "d246aad7",
   "metadata": {
    "papermill": {
     "duration": 0.01812,
     "end_time": "2024-01-28T18:06:30.508718",
     "exception": false,
     "start_time": "2024-01-28T18:06:30.490598",
     "status": "completed"
    },
    "tags": []
   },
   "source": [
    "#### Data Modelling and training"
   ]
  },
  {
   "cell_type": "code",
   "execution_count": 17,
   "id": "f279faf3",
   "metadata": {
    "execution": {
     "iopub.execute_input": "2024-01-28T18:06:30.546034Z",
     "iopub.status.busy": "2024-01-28T18:06:30.544461Z",
     "iopub.status.idle": "2024-01-28T18:06:30.566559Z",
     "shell.execute_reply": "2024-01-28T18:06:30.565147Z"
    },
    "papermill": {
     "duration": 0.043866,
     "end_time": "2024-01-28T18:06:30.569783",
     "exception": false,
     "start_time": "2024-01-28T18:06:30.525917",
     "status": "completed"
    },
    "tags": []
   },
   "outputs": [
    {
     "data": {
      "text/html": [
       "<div>\n",
       "<style scoped>\n",
       "    .dataframe tbody tr th:only-of-type {\n",
       "        vertical-align: middle;\n",
       "    }\n",
       "\n",
       "    .dataframe tbody tr th {\n",
       "        vertical-align: top;\n",
       "    }\n",
       "\n",
       "    .dataframe thead th {\n",
       "        text-align: right;\n",
       "    }\n",
       "</style>\n",
       "<table border=\"1\" class=\"dataframe\">\n",
       "  <thead>\n",
       "    <tr style=\"text-align: right;\">\n",
       "      <th></th>\n",
       "      <th>id</th>\n",
       "      <th>CustomerId</th>\n",
       "      <th>Surname</th>\n",
       "      <th>CreditScore</th>\n",
       "      <th>Geography</th>\n",
       "      <th>Gender</th>\n",
       "      <th>Age</th>\n",
       "      <th>Tenure</th>\n",
       "      <th>Balance</th>\n",
       "      <th>NumOfProducts</th>\n",
       "      <th>HasCrCard</th>\n",
       "      <th>IsActiveMember</th>\n",
       "      <th>EstimatedSalary</th>\n",
       "    </tr>\n",
       "  </thead>\n",
       "  <tbody>\n",
       "    <tr>\n",
       "      <th>0</th>\n",
       "      <td>165034</td>\n",
       "      <td>15773898</td>\n",
       "      <td>Lucchese</td>\n",
       "      <td>586</td>\n",
       "      <td>France</td>\n",
       "      <td>Female</td>\n",
       "      <td>23.0</td>\n",
       "      <td>2</td>\n",
       "      <td>0.00</td>\n",
       "      <td>2</td>\n",
       "      <td>0.0</td>\n",
       "      <td>1.0</td>\n",
       "      <td>160976.75</td>\n",
       "    </tr>\n",
       "    <tr>\n",
       "      <th>1</th>\n",
       "      <td>165035</td>\n",
       "      <td>15782418</td>\n",
       "      <td>Nott</td>\n",
       "      <td>683</td>\n",
       "      <td>France</td>\n",
       "      <td>Female</td>\n",
       "      <td>46.0</td>\n",
       "      <td>2</td>\n",
       "      <td>0.00</td>\n",
       "      <td>1</td>\n",
       "      <td>1.0</td>\n",
       "      <td>0.0</td>\n",
       "      <td>72549.27</td>\n",
       "    </tr>\n",
       "    <tr>\n",
       "      <th>2</th>\n",
       "      <td>165036</td>\n",
       "      <td>15807120</td>\n",
       "      <td>K?</td>\n",
       "      <td>656</td>\n",
       "      <td>France</td>\n",
       "      <td>Female</td>\n",
       "      <td>34.0</td>\n",
       "      <td>7</td>\n",
       "      <td>0.00</td>\n",
       "      <td>2</td>\n",
       "      <td>1.0</td>\n",
       "      <td>0.0</td>\n",
       "      <td>138882.09</td>\n",
       "    </tr>\n",
       "    <tr>\n",
       "      <th>3</th>\n",
       "      <td>165037</td>\n",
       "      <td>15808905</td>\n",
       "      <td>O'Donnell</td>\n",
       "      <td>681</td>\n",
       "      <td>France</td>\n",
       "      <td>Male</td>\n",
       "      <td>36.0</td>\n",
       "      <td>8</td>\n",
       "      <td>0.00</td>\n",
       "      <td>1</td>\n",
       "      <td>1.0</td>\n",
       "      <td>0.0</td>\n",
       "      <td>113931.57</td>\n",
       "    </tr>\n",
       "    <tr>\n",
       "      <th>4</th>\n",
       "      <td>165038</td>\n",
       "      <td>15607314</td>\n",
       "      <td>Higgins</td>\n",
       "      <td>752</td>\n",
       "      <td>Germany</td>\n",
       "      <td>Male</td>\n",
       "      <td>38.0</td>\n",
       "      <td>10</td>\n",
       "      <td>121263.62</td>\n",
       "      <td>1</td>\n",
       "      <td>1.0</td>\n",
       "      <td>0.0</td>\n",
       "      <td>139431.00</td>\n",
       "    </tr>\n",
       "  </tbody>\n",
       "</table>\n",
       "</div>"
      ],
      "text/plain": [
       "       id  CustomerId    Surname  CreditScore Geography  Gender   Age  Tenure  \\\n",
       "0  165034    15773898   Lucchese          586    France  Female  23.0       2   \n",
       "1  165035    15782418       Nott          683    France  Female  46.0       2   \n",
       "2  165036    15807120         K?          656    France  Female  34.0       7   \n",
       "3  165037    15808905  O'Donnell          681    France    Male  36.0       8   \n",
       "4  165038    15607314    Higgins          752   Germany    Male  38.0      10   \n",
       "\n",
       "     Balance  NumOfProducts  HasCrCard  IsActiveMember  EstimatedSalary  \n",
       "0       0.00              2        0.0             1.0        160976.75  \n",
       "1       0.00              1        1.0             0.0         72549.27  \n",
       "2       0.00              2        1.0             0.0        138882.09  \n",
       "3       0.00              1        1.0             0.0        113931.57  \n",
       "4  121263.62              1        1.0             0.0        139431.00  "
      ]
     },
     "execution_count": 17,
     "metadata": {},
     "output_type": "execute_result"
    }
   ],
   "source": [
    "test_df.head()"
   ]
  },
  {
   "cell_type": "code",
   "execution_count": 18,
   "id": "019124ab",
   "metadata": {
    "execution": {
     "iopub.execute_input": "2024-01-28T18:06:30.607173Z",
     "iopub.status.busy": "2024-01-28T18:06:30.606634Z",
     "iopub.status.idle": "2024-01-28T18:06:30.612452Z",
     "shell.execute_reply": "2024-01-28T18:06:30.611311Z"
    },
    "papermill": {
     "duration": 0.027728,
     "end_time": "2024-01-28T18:06:30.614837",
     "exception": false,
     "start_time": "2024-01-28T18:06:30.587109",
     "status": "completed"
    },
    "tags": []
   },
   "outputs": [],
   "source": [
    "ids = test_df['id']"
   ]
  },
  {
   "cell_type": "code",
   "execution_count": 19,
   "id": "772ad877",
   "metadata": {
    "execution": {
     "iopub.execute_input": "2024-01-28T18:06:30.741169Z",
     "iopub.status.busy": "2024-01-28T18:06:30.739613Z",
     "iopub.status.idle": "2024-01-28T18:06:30.756020Z",
     "shell.execute_reply": "2024-01-28T18:06:30.754913Z"
    },
    "papermill": {
     "duration": 0.038585,
     "end_time": "2024-01-28T18:06:30.758651",
     "exception": false,
     "start_time": "2024-01-28T18:06:30.720066",
     "status": "completed"
    },
    "tags": []
   },
   "outputs": [
    {
     "data": {
      "text/plain": [
       "Index(['CustomerId', 'Surname', 'CreditScore', 'Geography', 'Gender', 'Age',\n",
       "       'Tenure', 'Balance', 'NumOfProducts', 'HasCrCard', 'IsActiveMember',\n",
       "       'EstimatedSalary'],\n",
       "      dtype='object')"
      ]
     },
     "execution_count": 19,
     "metadata": {},
     "output_type": "execute_result"
    }
   ],
   "source": [
    "# Remove Id Column\n",
    "test_df.drop(['id'], axis=1, inplace=True)\n",
    "test_df.columns"
   ]
  },
  {
   "cell_type": "code",
   "execution_count": 20,
   "id": "517f71fc",
   "metadata": {
    "execution": {
     "iopub.execute_input": "2024-01-28T18:06:30.796607Z",
     "iopub.status.busy": "2024-01-28T18:06:30.795788Z",
     "iopub.status.idle": "2024-01-28T18:06:30.803222Z",
     "shell.execute_reply": "2024-01-28T18:06:30.801914Z"
    },
    "papermill": {
     "duration": 0.02998,
     "end_time": "2024-01-28T18:06:30.806100",
     "exception": false,
     "start_time": "2024-01-28T18:06:30.776120",
     "status": "completed"
    },
    "tags": []
   },
   "outputs": [
    {
     "data": {
      "text/plain": [
       "((110023, 12), (165034, 13))"
      ]
     },
     "execution_count": 20,
     "metadata": {},
     "output_type": "execute_result"
    }
   ],
   "source": [
    "test_df.shape,train_df.shape"
   ]
  },
  {
   "cell_type": "code",
   "execution_count": 21,
   "id": "e0bae781",
   "metadata": {
    "execution": {
     "iopub.execute_input": "2024-01-28T18:06:30.843371Z",
     "iopub.status.busy": "2024-01-28T18:06:30.842892Z",
     "iopub.status.idle": "2024-01-28T18:06:30.863609Z",
     "shell.execute_reply": "2024-01-28T18:06:30.862310Z"
    },
    "papermill": {
     "duration": 0.042604,
     "end_time": "2024-01-28T18:06:30.866185",
     "exception": false,
     "start_time": "2024-01-28T18:06:30.823581",
     "status": "completed"
    },
    "tags": []
   },
   "outputs": [
    {
     "data": {
      "text/html": [
       "<div>\n",
       "<style scoped>\n",
       "    .dataframe tbody tr th:only-of-type {\n",
       "        vertical-align: middle;\n",
       "    }\n",
       "\n",
       "    .dataframe tbody tr th {\n",
       "        vertical-align: top;\n",
       "    }\n",
       "\n",
       "    .dataframe thead th {\n",
       "        text-align: right;\n",
       "    }\n",
       "</style>\n",
       "<table border=\"1\" class=\"dataframe\">\n",
       "  <thead>\n",
       "    <tr style=\"text-align: right;\">\n",
       "      <th></th>\n",
       "      <th>CustomerId</th>\n",
       "      <th>Surname</th>\n",
       "      <th>CreditScore</th>\n",
       "      <th>Geography</th>\n",
       "      <th>Gender</th>\n",
       "      <th>Age</th>\n",
       "      <th>Tenure</th>\n",
       "      <th>Balance</th>\n",
       "      <th>NumOfProducts</th>\n",
       "      <th>HasCrCard</th>\n",
       "      <th>IsActiveMember</th>\n",
       "      <th>EstimatedSalary</th>\n",
       "    </tr>\n",
       "  </thead>\n",
       "  <tbody>\n",
       "    <tr>\n",
       "      <th>0</th>\n",
       "      <td>15773898</td>\n",
       "      <td>Lucchese</td>\n",
       "      <td>586</td>\n",
       "      <td>France</td>\n",
       "      <td>Female</td>\n",
       "      <td>23.0</td>\n",
       "      <td>2</td>\n",
       "      <td>0.00</td>\n",
       "      <td>2</td>\n",
       "      <td>0.0</td>\n",
       "      <td>1.0</td>\n",
       "      <td>160976.75</td>\n",
       "    </tr>\n",
       "    <tr>\n",
       "      <th>1</th>\n",
       "      <td>15782418</td>\n",
       "      <td>Nott</td>\n",
       "      <td>683</td>\n",
       "      <td>France</td>\n",
       "      <td>Female</td>\n",
       "      <td>46.0</td>\n",
       "      <td>2</td>\n",
       "      <td>0.00</td>\n",
       "      <td>1</td>\n",
       "      <td>1.0</td>\n",
       "      <td>0.0</td>\n",
       "      <td>72549.27</td>\n",
       "    </tr>\n",
       "    <tr>\n",
       "      <th>2</th>\n",
       "      <td>15807120</td>\n",
       "      <td>K?</td>\n",
       "      <td>656</td>\n",
       "      <td>France</td>\n",
       "      <td>Female</td>\n",
       "      <td>34.0</td>\n",
       "      <td>7</td>\n",
       "      <td>0.00</td>\n",
       "      <td>2</td>\n",
       "      <td>1.0</td>\n",
       "      <td>0.0</td>\n",
       "      <td>138882.09</td>\n",
       "    </tr>\n",
       "    <tr>\n",
       "      <th>3</th>\n",
       "      <td>15808905</td>\n",
       "      <td>O'Donnell</td>\n",
       "      <td>681</td>\n",
       "      <td>France</td>\n",
       "      <td>Male</td>\n",
       "      <td>36.0</td>\n",
       "      <td>8</td>\n",
       "      <td>0.00</td>\n",
       "      <td>1</td>\n",
       "      <td>1.0</td>\n",
       "      <td>0.0</td>\n",
       "      <td>113931.57</td>\n",
       "    </tr>\n",
       "    <tr>\n",
       "      <th>4</th>\n",
       "      <td>15607314</td>\n",
       "      <td>Higgins</td>\n",
       "      <td>752</td>\n",
       "      <td>Germany</td>\n",
       "      <td>Male</td>\n",
       "      <td>38.0</td>\n",
       "      <td>10</td>\n",
       "      <td>121263.62</td>\n",
       "      <td>1</td>\n",
       "      <td>1.0</td>\n",
       "      <td>0.0</td>\n",
       "      <td>139431.00</td>\n",
       "    </tr>\n",
       "  </tbody>\n",
       "</table>\n",
       "</div>"
      ],
      "text/plain": [
       "   CustomerId    Surname  CreditScore Geography  Gender   Age  Tenure  \\\n",
       "0    15773898   Lucchese          586    France  Female  23.0       2   \n",
       "1    15782418       Nott          683    France  Female  46.0       2   \n",
       "2    15807120         K?          656    France  Female  34.0       7   \n",
       "3    15808905  O'Donnell          681    France    Male  36.0       8   \n",
       "4    15607314    Higgins          752   Germany    Male  38.0      10   \n",
       "\n",
       "     Balance  NumOfProducts  HasCrCard  IsActiveMember  EstimatedSalary  \n",
       "0       0.00              2        0.0             1.0        160976.75  \n",
       "1       0.00              1        1.0             0.0         72549.27  \n",
       "2       0.00              2        1.0             0.0        138882.09  \n",
       "3       0.00              1        1.0             0.0        113931.57  \n",
       "4  121263.62              1        1.0             0.0        139431.00  "
      ]
     },
     "execution_count": 21,
     "metadata": {},
     "output_type": "execute_result"
    }
   ],
   "source": [
    "test_df.head()"
   ]
  },
  {
   "cell_type": "code",
   "execution_count": 22,
   "id": "8e73f21e",
   "metadata": {
    "execution": {
     "iopub.execute_input": "2024-01-28T18:06:30.903836Z",
     "iopub.status.busy": "2024-01-28T18:06:30.903351Z",
     "iopub.status.idle": "2024-01-28T18:06:30.924992Z",
     "shell.execute_reply": "2024-01-28T18:06:30.924051Z"
    },
    "papermill": {
     "duration": 0.043412,
     "end_time": "2024-01-28T18:06:30.927284",
     "exception": false,
     "start_time": "2024-01-28T18:06:30.883872",
     "status": "completed"
    },
    "tags": []
   },
   "outputs": [
    {
     "data": {
      "text/html": [
       "<div>\n",
       "<style scoped>\n",
       "    .dataframe tbody tr th:only-of-type {\n",
       "        vertical-align: middle;\n",
       "    }\n",
       "\n",
       "    .dataframe tbody tr th {\n",
       "        vertical-align: top;\n",
       "    }\n",
       "\n",
       "    .dataframe thead th {\n",
       "        text-align: right;\n",
       "    }\n",
       "</style>\n",
       "<table border=\"1\" class=\"dataframe\">\n",
       "  <thead>\n",
       "    <tr style=\"text-align: right;\">\n",
       "      <th></th>\n",
       "      <th>CustomerId</th>\n",
       "      <th>Surname</th>\n",
       "      <th>CreditScore</th>\n",
       "      <th>Geography</th>\n",
       "      <th>Gender</th>\n",
       "      <th>Age</th>\n",
       "      <th>Tenure</th>\n",
       "      <th>Balance</th>\n",
       "      <th>NumOfProducts</th>\n",
       "      <th>HasCrCard</th>\n",
       "      <th>IsActiveMember</th>\n",
       "      <th>EstimatedSalary</th>\n",
       "      <th>Exited</th>\n",
       "    </tr>\n",
       "  </thead>\n",
       "  <tbody>\n",
       "    <tr>\n",
       "      <th>0</th>\n",
       "      <td>15674932</td>\n",
       "      <td>Okwudilichukwu</td>\n",
       "      <td>668</td>\n",
       "      <td>France</td>\n",
       "      <td>Male</td>\n",
       "      <td>33.0</td>\n",
       "      <td>3</td>\n",
       "      <td>0.00</td>\n",
       "      <td>2</td>\n",
       "      <td>1.0</td>\n",
       "      <td>0.0</td>\n",
       "      <td>181449.97</td>\n",
       "      <td>0</td>\n",
       "    </tr>\n",
       "    <tr>\n",
       "      <th>1</th>\n",
       "      <td>15749177</td>\n",
       "      <td>Okwudiliolisa</td>\n",
       "      <td>627</td>\n",
       "      <td>France</td>\n",
       "      <td>Male</td>\n",
       "      <td>33.0</td>\n",
       "      <td>1</td>\n",
       "      <td>0.00</td>\n",
       "      <td>2</td>\n",
       "      <td>1.0</td>\n",
       "      <td>1.0</td>\n",
       "      <td>49503.50</td>\n",
       "      <td>0</td>\n",
       "    </tr>\n",
       "    <tr>\n",
       "      <th>2</th>\n",
       "      <td>15694510</td>\n",
       "      <td>Hsueh</td>\n",
       "      <td>678</td>\n",
       "      <td>France</td>\n",
       "      <td>Male</td>\n",
       "      <td>40.0</td>\n",
       "      <td>10</td>\n",
       "      <td>0.00</td>\n",
       "      <td>2</td>\n",
       "      <td>1.0</td>\n",
       "      <td>0.0</td>\n",
       "      <td>184866.69</td>\n",
       "      <td>0</td>\n",
       "    </tr>\n",
       "    <tr>\n",
       "      <th>3</th>\n",
       "      <td>15741417</td>\n",
       "      <td>Kao</td>\n",
       "      <td>581</td>\n",
       "      <td>France</td>\n",
       "      <td>Male</td>\n",
       "      <td>34.0</td>\n",
       "      <td>2</td>\n",
       "      <td>148882.54</td>\n",
       "      <td>1</td>\n",
       "      <td>1.0</td>\n",
       "      <td>1.0</td>\n",
       "      <td>84560.88</td>\n",
       "      <td>0</td>\n",
       "    </tr>\n",
       "    <tr>\n",
       "      <th>4</th>\n",
       "      <td>15766172</td>\n",
       "      <td>Chiemenam</td>\n",
       "      <td>716</td>\n",
       "      <td>Spain</td>\n",
       "      <td>Male</td>\n",
       "      <td>33.0</td>\n",
       "      <td>5</td>\n",
       "      <td>0.00</td>\n",
       "      <td>2</td>\n",
       "      <td>1.0</td>\n",
       "      <td>1.0</td>\n",
       "      <td>15068.83</td>\n",
       "      <td>0</td>\n",
       "    </tr>\n",
       "  </tbody>\n",
       "</table>\n",
       "</div>"
      ],
      "text/plain": [
       "   CustomerId         Surname  CreditScore Geography Gender   Age  Tenure  \\\n",
       "0    15674932  Okwudilichukwu          668    France   Male  33.0       3   \n",
       "1    15749177   Okwudiliolisa          627    France   Male  33.0       1   \n",
       "2    15694510           Hsueh          678    France   Male  40.0      10   \n",
       "3    15741417             Kao          581    France   Male  34.0       2   \n",
       "4    15766172       Chiemenam          716     Spain   Male  33.0       5   \n",
       "\n",
       "     Balance  NumOfProducts  HasCrCard  IsActiveMember  EstimatedSalary  \\\n",
       "0       0.00              2        1.0             0.0        181449.97   \n",
       "1       0.00              2        1.0             1.0         49503.50   \n",
       "2       0.00              2        1.0             0.0        184866.69   \n",
       "3  148882.54              1        1.0             1.0         84560.88   \n",
       "4       0.00              2        1.0             1.0         15068.83   \n",
       "\n",
       "   Exited  \n",
       "0       0  \n",
       "1       0  \n",
       "2       0  \n",
       "3       0  \n",
       "4       0  "
      ]
     },
     "execution_count": 22,
     "metadata": {},
     "output_type": "execute_result"
    }
   ],
   "source": [
    "train_df.head()"
   ]
  },
  {
   "cell_type": "code",
   "execution_count": 23,
   "id": "a75e229d",
   "metadata": {
    "execution": {
     "iopub.execute_input": "2024-01-28T18:06:30.967011Z",
     "iopub.status.busy": "2024-01-28T18:06:30.965831Z",
     "iopub.status.idle": "2024-01-28T18:06:31.190778Z",
     "shell.execute_reply": "2024-01-28T18:06:31.189382Z"
    },
    "papermill": {
     "duration": 0.248091,
     "end_time": "2024-01-28T18:06:31.194110",
     "exception": false,
     "start_time": "2024-01-28T18:06:30.946019",
     "status": "completed"
    },
    "tags": []
   },
   "outputs": [],
   "source": [
    "X=train_df.iloc[:,1:-1].values #  first and last columns not inculded\n",
    "y=train_df.iloc[:,-1].values  # only last - target\n",
    "\n",
    "X_test=test_df.iloc[:,1:].values  # first  column not inculded"
   ]
  },
  {
   "cell_type": "code",
   "execution_count": 24,
   "id": "25e9ce83",
   "metadata": {
    "execution": {
     "iopub.execute_input": "2024-01-28T18:06:31.232713Z",
     "iopub.status.busy": "2024-01-28T18:06:31.232164Z",
     "iopub.status.idle": "2024-01-28T18:06:31.536731Z",
     "shell.execute_reply": "2024-01-28T18:06:31.535295Z"
    },
    "papermill": {
     "duration": 0.327794,
     "end_time": "2024-01-28T18:06:31.540145",
     "exception": false,
     "start_time": "2024-01-28T18:06:31.212351",
     "status": "completed"
    },
    "tags": []
   },
   "outputs": [],
   "source": [
    "#Data Modeling\n",
    "#Train Test Split\n",
    "\n",
    "x_train,x_test,y_train,y_test = train_test_split(X,y, test_size=0.2, random_state=2)\n",
    "#print(x_train.shape, x_test.shape)"
   ]
  },
  {
   "cell_type": "code",
   "execution_count": 25,
   "id": "573b6daa",
   "metadata": {
    "execution": {
     "iopub.execute_input": "2024-01-28T18:06:31.579299Z",
     "iopub.status.busy": "2024-01-28T18:06:31.578733Z",
     "iopub.status.idle": "2024-01-28T18:06:34.060907Z",
     "shell.execute_reply": "2024-01-28T18:06:34.059766Z"
    },
    "papermill": {
     "duration": 2.505381,
     "end_time": "2024-01-28T18:06:34.064123",
     "exception": false,
     "start_time": "2024-01-28T18:06:31.558742",
     "status": "completed"
    },
    "tags": []
   },
   "outputs": [],
   "source": [
    "#\"\"\" convert to numberical values\n",
    "for i in range(x_train.shape[1]):\n",
    "    le = LabelEncoder()\n",
    "    x_test[:,i] = le.fit_transform(x_test[:, i])\n",
    "    x_train[:,i] = le.fit_transform(x_train[:, i])\n",
    "    \n",
    "    X_test[:,i] = le.fit_transform(X_test[:, i])"
   ]
  },
  {
   "cell_type": "code",
   "execution_count": 26,
   "id": "539bb1b6",
   "metadata": {
    "execution": {
     "iopub.execute_input": "2024-01-28T18:06:34.102831Z",
     "iopub.status.busy": "2024-01-28T18:06:34.102335Z",
     "iopub.status.idle": "2024-01-28T18:06:34.116776Z",
     "shell.execute_reply": "2024-01-28T18:06:34.115506Z"
    },
    "papermill": {
     "duration": 0.037667,
     "end_time": "2024-01-28T18:06:34.120038",
     "exception": false,
     "start_time": "2024-01-28T18:06:34.082371",
     "status": "completed"
    },
    "tags": []
   },
   "outputs": [],
   "source": [
    "label_encoder = LabelEncoder()\n",
    "y = label_encoder.fit_transform(y)"
   ]
  },
  {
   "cell_type": "code",
   "execution_count": 27,
   "id": "69749bc5",
   "metadata": {
    "execution": {
     "iopub.execute_input": "2024-01-28T18:06:34.160315Z",
     "iopub.status.busy": "2024-01-28T18:06:34.159375Z",
     "iopub.status.idle": "2024-01-28T18:06:34.671467Z",
     "shell.execute_reply": "2024-01-28T18:06:34.669697Z"
    },
    "papermill": {
     "duration": 0.537066,
     "end_time": "2024-01-28T18:06:34.675376",
     "exception": false,
     "start_time": "2024-01-28T18:06:34.138310",
     "status": "completed"
    },
    "tags": []
   },
   "outputs": [],
   "source": [
    "#scale variables in X to ensure same scale\n",
    "ss = StandardScaler()\n",
    "x_train = ss.fit_transform(x_train)\n",
    "x_test = ss.transform(x_test)\n",
    "\n",
    "X_test = ss.transform(X_test)"
   ]
  },
  {
   "cell_type": "code",
   "execution_count": 28,
   "id": "52ee434a",
   "metadata": {
    "execution": {
     "iopub.execute_input": "2024-01-28T18:06:34.717375Z",
     "iopub.status.busy": "2024-01-28T18:06:34.716467Z",
     "iopub.status.idle": "2024-01-28T18:06:34.722685Z",
     "shell.execute_reply": "2024-01-28T18:06:34.721750Z"
    },
    "papermill": {
     "duration": 0.029784,
     "end_time": "2024-01-28T18:06:34.725453",
     "exception": false,
     "start_time": "2024-01-28T18:06:34.695669",
     "status": "completed"
    },
    "tags": []
   },
   "outputs": [],
   "source": [
    "accuracy_list = []\n",
    "precision_all = []\n",
    "recall_all = []  \n",
    "f1_score_all = []\n",
    "train_accuracy = []\n",
    "test_accuracy = []\n",
    "roc_accuracy = []"
   ]
  },
  {
   "cell_type": "markdown",
   "id": "b671ac28",
   "metadata": {
    "papermill": {
     "duration": 0.018252,
     "end_time": "2024-01-28T18:06:34.762396",
     "exception": false,
     "start_time": "2024-01-28T18:06:34.744144",
     "status": "completed"
    },
    "tags": []
   },
   "source": [
    "### RandomForesstClassifier"
   ]
  },
  {
   "cell_type": "code",
   "execution_count": 29,
   "id": "2203fb0e",
   "metadata": {
    "execution": {
     "iopub.execute_input": "2024-01-28T18:06:34.803954Z",
     "iopub.status.busy": "2024-01-28T18:06:34.803490Z",
     "iopub.status.idle": "2024-01-28T18:07:20.647731Z",
     "shell.execute_reply": "2024-01-28T18:07:20.646551Z"
    },
    "papermill": {
     "duration": 45.869169,
     "end_time": "2024-01-28T18:07:20.650902",
     "exception": false,
     "start_time": "2024-01-28T18:06:34.781733",
     "status": "completed"
    },
    "tags": []
   },
   "outputs": [],
   "source": [
    "# RandomForestClassifier\n",
    "\n",
    "r_clf = RandomForestClassifier(max_features=0.5, max_depth=15, random_state=1)\n",
    "r_clf.fit(x_train, y_train)\n",
    "r_clf_pred = r_clf.predict(x_test)\n",
    "\n",
    "r_clf_acc = accuracy_score(y_test, r_clf_pred)\n",
    "accuracy_list.append(100*r_clf_acc)\n"
   ]
  },
  {
   "cell_type": "code",
   "execution_count": 30,
   "id": "e5dc34f0",
   "metadata": {
    "execution": {
     "iopub.execute_input": "2024-01-28T18:07:20.692348Z",
     "iopub.status.busy": "2024-01-28T18:07:20.691520Z",
     "iopub.status.idle": "2024-01-28T18:07:20.777068Z",
     "shell.execute_reply": "2024-01-28T18:07:20.775801Z"
    },
    "papermill": {
     "duration": 0.108776,
     "end_time": "2024-01-28T18:07:20.779902",
     "exception": false,
     "start_time": "2024-01-28T18:07:20.671126",
     "status": "completed"
    },
    "tags": []
   },
   "outputs": [
    {
     "name": "stdout",
     "output_type": "stream",
     "text": [
      "Accuracy: 85.94%\n",
      "Classification Report \n",
      "               precision    recall  f1-score   support\n",
      "\n",
      "  Not Exited       0.87      0.97      0.92     26011\n",
      "      Exited       0.78      0.47      0.58      6996\n",
      "\n",
      "    accuracy                           0.86     33007\n",
      "   macro avg       0.83      0.72      0.75     33007\n",
      "weighted avg       0.85      0.86      0.85     33007\n",
      "\n"
     ]
    }
   ],
   "source": [
    "# Confusion Matrix Evaluation Metrics\n",
    "# Let's evaluate the model using classification_report for accuracy, precision, and recall.\n",
    "print(\"Accuracy: {:.2f}%\".format(100*r_clf_acc))\n",
    "\n",
    "target_names = ['Not Exited', 'Exited']\n",
    "print(\"Classification Report \\n\", classification_report(y_test, r_clf_pred, target_names=target_names))\n",
    "\n",
    "r_clf_prec, r_clf_recall, r_clf_f1, r_clf_supp = score(y_test, r_clf_pred)\n",
    "precision_all.append(100*r_clf_prec[1])\n",
    "recall_all.append(100*r_clf_recall[1])\n",
    "f1_score_all.append(100*r_clf_f1[1])\n"
   ]
  },
  {
   "cell_type": "code",
   "execution_count": 31,
   "id": "5a6d010b",
   "metadata": {
    "execution": {
     "iopub.execute_input": "2024-01-28T18:07:20.819654Z",
     "iopub.status.busy": "2024-01-28T18:07:20.818866Z",
     "iopub.status.idle": "2024-01-28T18:07:21.538607Z",
     "shell.execute_reply": "2024-01-28T18:07:21.537431Z"
    },
    "papermill": {
     "duration": 0.743266,
     "end_time": "2024-01-28T18:07:21.541829",
     "exception": false,
     "start_time": "2024-01-28T18:07:20.798563",
     "status": "completed"
    },
    "tags": []
   },
   "outputs": [],
   "source": [
    "#Receiver Operating Characteristic(ROC) curve\n",
    "\n",
    "r_clf_pred_proba = r_clf.predict_proba(x_test)[::,1]\n",
    "fpr5, tpr5, thresholds5 = roc_curve(y_test, r_clf_pred_proba)\n",
    "auc5 = roc_auc_score(y_test, r_clf_pred_proba)\n",
    "\n",
    "roc_accuracy.append(100*auc5)"
   ]
  },
  {
   "cell_type": "code",
   "execution_count": 32,
   "id": "9176d5ff",
   "metadata": {
    "execution": {
     "iopub.execute_input": "2024-01-28T18:07:21.581341Z",
     "iopub.status.busy": "2024-01-28T18:07:21.580820Z",
     "iopub.status.idle": "2024-01-28T18:07:21.905920Z",
     "shell.execute_reply": "2024-01-28T18:07:21.904587Z"
    },
    "papermill": {
     "duration": 0.348621,
     "end_time": "2024-01-28T18:07:21.909161",
     "exception": false,
     "start_time": "2024-01-28T18:07:21.560540",
     "status": "completed"
    },
    "tags": []
   },
   "outputs": [
    {
     "data": {
      "image/png": "[encoded data removed]",
      "text/plain": [
       "<Figure size 750x750 with 1 Axes>"
      ]
     },
     "metadata": {},
     "output_type": "display_data"
    }
   ],
   "source": [
    "fig, ax = plt.subplots(figsize=(7.5, 7.5))\n",
    "plt.plot(fpr5, tpr5, label='RandomForest (AUC = %0.3f)' % (auc5))\n",
    "plt.plot([0, 1], [0, 1], linestyle='--', color='red', label='Random Classifier')   \n",
    "plt.plot([0, 0, 1], [0, 1, 1], linestyle=':', color='green', label='Perfect Classifier')\n",
    "plt.xlim([-0.05, 1.05])\n",
    "plt.ylim([-0.05, 1.05])\n",
    "plt.xlabel('False positive rate')\n",
    "plt.ylabel('True positive rate')\n",
    "plt.title('ROC Curve')\n",
    "plt.legend(loc=\"lower right\")\n",
    "plt.show()"
   ]
  },
  {
   "cell_type": "code",
   "execution_count": 42,
   "id": "b569fba3",
   "metadata": {
    "execution": {
     "iopub.execute_input": "2024-01-28T18:07:21.951234Z",
     "iopub.status.busy": "2024-01-28T18:07:21.949958Z",
     "iopub.status.idle": "2024-01-28T18:07:21.967332Z",
     "shell.execute_reply": "2024-01-28T18:07:21.966351Z"
    },
    "papermill": {
     "duration": 0.040942,
     "end_time": "2024-01-28T18:07:21.969693",
     "exception": false,
     "start_time": "2024-01-28T18:07:21.928751",
     "status": "completed"
    },
    "tags": []
   },
   "outputs": [
    {
     "data": {
      "text/html": [
       "<div>\n",
       "<style scoped>\n",
       "    .dataframe tbody tr th:only-of-type {\n",
       "        vertical-align: middle;\n",
       "    }\n",
       "\n",
       "    .dataframe tbody tr th {\n",
       "        vertical-align: top;\n",
       "    }\n",
       "\n",
       "    .dataframe thead th {\n",
       "        text-align: right;\n",
       "    }\n",
       "</style>\n",
       "<table border=\"1\" class=\"dataframe\">\n",
       "  <thead>\n",
       "    <tr style=\"text-align: right;\">\n",
       "      <th></th>\n",
       "      <th>Accuracy</th>\n",
       "      <th>Precision</th>\n",
       "      <th>Recall</th>\n",
       "      <th>F1-score</th>\n",
       "      <th>ROC ACU</th>\n",
       "    </tr>\n",
       "  </thead>\n",
       "  <tbody>\n",
       "    <tr>\n",
       "      <th>RandomForest</th>\n",
       "      <td>85.942</td>\n",
       "      <td>78.317</td>\n",
       "      <td>46.569</td>\n",
       "      <td>58.408</td>\n",
       "      <td>87.872</td>\n",
       "    </tr>\n",
       "  </tbody>\n",
       "</table>\n",
       "</div>"
      ],
      "text/plain": [
       "              Accuracy  Precision  Recall  F1-score  ROC ACU\n",
       "RandomForest    85.942     78.317  46.569    58.408   87.872"
      ]
     },
     "execution_count": 42,
     "metadata": {},
     "output_type": "execute_result"
    }
   ],
   "source": [
    "model_list = ['RandomForest']\n",
    "\n",
    "\n",
    "dict = {'Accuracy': np.round(accuracy_list, 3), \n",
    "        'Precision': np.round(precision_all, 3), \n",
    "        'Recall': np.round(recall_all, 3), \n",
    "        'F1-score':np.round(f1_score_all, 3), \n",
    "        'ROC ACU':np.round(roc_accuracy, 3)} \n",
    "    \n",
    "result = pd.DataFrame(dict, index = model_list)\n",
    "    \n",
    "result"
   ]
  },
  {
   "cell_type": "markdown",
   "id": "20095029",
   "metadata": {
    "papermill": {
     "duration": 0.019996,
     "end_time": "2024-01-28T18:07:22.011152",
     "exception": false,
     "start_time": "2024-01-28T18:07:21.991156",
     "status": "completed"
    },
    "tags": []
   },
   "source": [
    "### Prediction on Test Data"
   ]
  },
  {
   "cell_type": "code",
   "execution_count": 34,
   "id": "5aa17a6b",
   "metadata": {
    "execution": {
     "iopub.execute_input": "2024-01-28T18:07:22.054247Z",
     "iopub.status.busy": "2024-01-28T18:07:22.053393Z",
     "iopub.status.idle": "2024-01-28T18:07:26.792532Z",
     "shell.execute_reply": "2024-01-28T18:07:26.791174Z"
    },
    "papermill": {
     "duration": 4.764857,
     "end_time": "2024-01-28T18:07:26.795754",
     "exception": false,
     "start_time": "2024-01-28T18:07:22.030897",
     "status": "completed"
    },
    "tags": []
   },
   "outputs": [],
   "source": [
    "# predict on test dataset\n",
    "y_pred = r_clf.predict(X_test)\n",
    "y_pred_proba = r_clf.predict_proba(X_test)[:,1] "
   ]
  },
  {
   "cell_type": "code",
   "execution_count": 35,
   "id": "9964cf5a",
   "metadata": {
    "execution": {
     "iopub.execute_input": "2024-01-28T18:07:26.846252Z",
     "iopub.status.busy": "2024-01-28T18:07:26.845575Z",
     "iopub.status.idle": "2024-01-28T18:07:26.861192Z",
     "shell.execute_reply": "2024-01-28T18:07:26.859939Z"
    },
    "papermill": {
     "duration": 0.046178,
     "end_time": "2024-01-28T18:07:26.863702",
     "exception": false,
     "start_time": "2024-01-28T18:07:26.817524",
     "status": "completed"
    },
    "tags": []
   },
   "outputs": [
    {
     "data": {
      "text/html": [
       "<div>\n",
       "<style scoped>\n",
       "    .dataframe tbody tr th:only-of-type {\n",
       "        vertical-align: middle;\n",
       "    }\n",
       "\n",
       "    .dataframe tbody tr th {\n",
       "        vertical-align: top;\n",
       "    }\n",
       "\n",
       "    .dataframe thead th {\n",
       "        text-align: right;\n",
       "    }\n",
       "</style>\n",
       "<table border=\"1\" class=\"dataframe\">\n",
       "  <thead>\n",
       "    <tr style=\"text-align: right;\">\n",
       "      <th></th>\n",
       "      <th>id</th>\n",
       "      <th>Exited</th>\n",
       "    </tr>\n",
       "  </thead>\n",
       "  <tbody>\n",
       "    <tr>\n",
       "      <th>0</th>\n",
       "      <td>165034</td>\n",
       "      <td>0.0</td>\n",
       "    </tr>\n",
       "    <tr>\n",
       "      <th>1</th>\n",
       "      <td>165035</td>\n",
       "      <td>1.0</td>\n",
       "    </tr>\n",
       "    <tr>\n",
       "      <th>2</th>\n",
       "      <td>165036</td>\n",
       "      <td>0.0</td>\n",
       "    </tr>\n",
       "    <tr>\n",
       "      <th>3</th>\n",
       "      <td>165037</td>\n",
       "      <td>0.0</td>\n",
       "    </tr>\n",
       "    <tr>\n",
       "      <th>4</th>\n",
       "      <td>165038</td>\n",
       "      <td>0.0</td>\n",
       "    </tr>\n",
       "  </tbody>\n",
       "</table>\n",
       "</div>"
      ],
      "text/plain": [
       "       id  Exited\n",
       "0  165034     0.0\n",
       "1  165035     1.0\n",
       "2  165036     0.0\n",
       "3  165037     0.0\n",
       "4  165038     0.0"
      ]
     },
     "execution_count": 35,
     "metadata": {},
     "output_type": "execute_result"
    }
   ],
   "source": [
    "# Combine Predictions with IDs for the expected output\n",
    "outr_df = pd.DataFrame({'id': ids, 'Exited': np.round(y_pred_proba)}) #np.round(y_pred_proba, 1)\n",
    "outr_df.head()"
   ]
  },
  {
   "cell_type": "code",
   "execution_count": 36,
   "id": "30765046",
   "metadata": {
    "execution": {
     "iopub.execute_input": "2024-01-28T18:07:26.907562Z",
     "iopub.status.busy": "2024-01-28T18:07:26.906448Z",
     "iopub.status.idle": "2024-01-28T18:07:28.233967Z",
     "shell.execute_reply": "2024-01-28T18:07:28.232306Z"
    },
    "papermill": {
     "duration": 1.353946,
     "end_time": "2024-01-28T18:07:28.238146",
     "exception": false,
     "start_time": "2024-01-28T18:07:26.884200",
     "status": "completed"
    },
    "tags": []
   },
   "outputs": [],
   "source": [
    "outr_df['Exited'] = outr_df['Exited'].apply(np.int32)"
   ]
  },
  {
   "cell_type": "code",
   "execution_count": 37,
   "id": "84dc7429",
   "metadata": {
    "execution": {
     "iopub.execute_input": "2024-01-28T18:07:28.281179Z",
     "iopub.status.busy": "2024-01-28T18:07:28.280604Z",
     "iopub.status.idle": "2024-01-28T18:07:28.547100Z",
     "shell.execute_reply": "2024-01-28T18:07:28.545512Z"
    },
    "papermill": {
     "duration": 0.291301,
     "end_time": "2024-01-28T18:07:28.550436",
     "exception": false,
     "start_time": "2024-01-28T18:07:28.259135",
     "status": "completed"
    },
    "tags": []
   },
   "outputs": [],
   "source": [
    "# Save the predictions to a CSV file\n",
    "outr_df.to_csv('output.csv', index=False)"
   ]
  },
  {
   "cell_type": "code",
   "execution_count": 38,
   "id": "ce38a57a",
   "metadata": {
    "execution": {
     "iopub.execute_input": "2024-01-28T18:07:28.594109Z",
     "iopub.status.busy": "2024-01-28T18:07:28.592931Z",
     "iopub.status.idle": "2024-01-28T18:07:28.774638Z",
     "shell.execute_reply": "2024-01-28T18:07:28.773438Z"
    },
    "papermill": {
     "duration": 0.206824,
     "end_time": "2024-01-28T18:07:28.778026",
     "exception": false,
     "start_time": "2024-01-28T18:07:28.571202",
     "status": "completed"
    },
    "tags": []
   },
   "outputs": [
    {
     "name": "stdout",
     "output_type": "stream",
     "text": [
      "Exited\n",
      "0    92705\n",
      "1    17318\n",
      "Name: count, dtype: int64\n"
     ]
    },
    {
     "data": {
      "image/png": "[encoded data removed]",
      "text/plain": [
       "<Figure size 300x300 with 1 Axes>"
      ]
     },
     "metadata": {},
     "output_type": "display_data"
    }
   ],
   "source": [
    "exit_counts = outr_df['Exited'].value_counts()\n",
    "print(exit_counts)\n",
    "fig, ax = plt.subplots(figsize=(3, 3))\n",
    "fig = sns.barplot(x= exit_counts.index, y= exit_counts.values, ax=ax)"
   ]
  }
 ],
 "metadata": {
  "kaggle": {
   "accelerator": "none",
   "dataSources": [
    {
     "databundleVersionId": 7405009,
     "sourceId": 65711,
     "sourceType": "competition"
    }
   ],
   "dockerImageVersionId": 30635,
   "isGpuEnabled": false,
   "isInternetEnabled": true,
   "language": "python",
   "sourceType": "notebook"
  },
  "kernelspec": {
   "display_name": "Python 3 (ipykernel)",
   "language": "python",
   "name": "python3"
  },
  "language_info": {
   "codemirror_mode": {
    "name": "ipython",
    "version": 3
   },
   "file_extension": ".py",
   "mimetype": "text/x-python",
   "name": "python",
   "nbconvert_exporter": "python",
   "pygments_lexer": "ipython3",
   "version": "3.11.5"
  },
  "papermill": {
   "default_parameters": {},
   "duration": 95.890455,
   "end_time": "2024-01-28T18:07:30.024737",
   "environment_variables": {},
   "exception": null,
   "input_path": "__notebook__.ipynb",
   "output_path": "__notebook__.ipynb",
   "parameters": {},
   "start_time": "2024-01-28T18:05:54.134282",
   "version": "2.4.0"
  }
 },
 "nbformat": 4,
 "nbformat_minor": 5
}
